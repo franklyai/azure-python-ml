{
 "metadata": {
  "language_info": {
   "codemirror_mode": {
    "name": "ipython",
    "version": 3
   },
   "file_extension": ".py",
   "mimetype": "text/x-python",
   "name": "python",
   "nbconvert_exporter": "python",
   "pygments_lexer": "ipython3",
   "version": "3.7.9-final"
  },
  "orig_nbformat": 2,
  "kernelspec": {
   "name": "python3",
   "display_name": "Python 3.7.9 64-bit ('.venv')",
   "metadata": {
    "interpreter": {
     "hash": "1ac518374a36ca8f3b1942c7f6a6ae377dd3fd52453f0570ab25e9eeb4415221"
    }
   }
  }
 },
 "nbformat": 4,
 "nbformat_minor": 2,
 "cells": [
  {
   "source": [
    "# Episode VII Notebook\n",
    "\n",
    "The primary purpose of this episode is to connect to Microsoft Azure Storage to show how to upload and download a CSV file.\n",
    "\n",
    "First, import the packages required to connect to Azure ML."
   ],
   "cell_type": "markdown",
   "metadata": {}
  },
  {
   "cell_type": "code",
   "execution_count": null,
   "metadata": {},
   "outputs": [],
   "source": [
    "from azureml.core import Workspace\n",
    "import azureml.core\n",
    "import configparser\n",
    "\n",
    "config = configparser.ConfigParser()\n",
    "config.read('episode_vii.ini')  "
   ]
  },
  {
   "source": [
    "## Connect to the Workspace"
   ],
   "cell_type": "markdown",
   "metadata": {}
  },
  {
   "cell_type": "code",
   "execution_count": null,
   "metadata": {},
   "outputs": [],
   "source": [
    "ws = Workspace.get(name=config['azure.settings']['workspace_name'], \n",
    "                   subscription_id=config['azure.settings']['subscription_id'], \n",
    "                   resource_group=config['azure.settings']['resource_group'])\n",
    "print('Workspace loaded.')"
   ]
  },
  {
   "source": [
    "## Have a Look at the CSV Data\n",
    "\n",
    "The data is nothing special, by design so as to not dilute the Azure Storage topic."
   ],
   "cell_type": "markdown",
   "metadata": {}
  },
  {
   "cell_type": "code",
   "execution_count": null,
   "metadata": {},
   "outputs": [],
   "source": [
    "import pandas as pd \n",
    "pd.read_csv('./data/regression.csv')"
   ]
  },
  {
   "source": [
    "## Connect to the Storage Account and get a Blob Service Client Object\n",
    "\n",
    "I want to save this CSV to Azure Storage so my fictional FranklyAI team can all see the raw data."
   ],
   "cell_type": "markdown",
   "metadata": {}
  },
  {
   "cell_type": "code",
   "execution_count": 2,
   "metadata": {},
   "outputs": [
    {
     "output_type": "stream",
     "name": "stdout",
     "text": [
      "Got the Blob Service Client object.\n"
     ]
    }
   ],
   "source": [
    "from azure.storage.blob import BlobServiceClient, BlobClient, ContainerClient\n",
    "\n",
    "storage_connection_string = config['azure.settings']['storage_connection_string']\n",
    "\n",
    "blob_service_client = None\n",
    "# Create the BlobServiceClient object which will be used to create a container client\n",
    "blob_service_client = BlobServiceClient.from_connection_string(storage_connection_string)\n",
    "print('Got the Blob Service Client object.')"
   ]
  },
  {
   "source": [
    "## Create a Blob Container \n",
    "\n",
    "This is what holds the CSV file and is effectively the I/O.\n",
    "\n",
    "This code only needs to be run once - a container can be reused. NOTE: save the UUID, which becomes the name\n",
    "of your container. Put this in the .ini file for later use so you don't have to create the container each time."
   ],
   "cell_type": "markdown",
   "metadata": {}
  },
  {
   "cell_type": "code",
   "execution_count": 6,
   "metadata": {},
   "outputs": [],
   "source": [
    "import uuid\n",
    "\n",
    "# Run the following the first time, to create the container.\n",
    "# Create a unique name for the container\n",
    "container_name = str(uuid.uuid4())\n",
    "\n",
    "# Create the container\n",
    "container_client = blob_service_client.create_container(container_name)\n",
    "print('Container created:', container_name)"
   ]
  },
  {
   "source": [
    "## Get a Container Client from the Blob Service Client and Upload the File\n",
    "\n",
    "This code assumes the container name from the last code block was saved in the .ini file."
   ],
   "cell_type": "markdown",
   "metadata": {}
  },
  {
   "cell_type": "code",
   "execution_count": null,
   "metadata": {},
   "outputs": [],
   "source": [
    "csv_file_name = './data/regression.csv'\n",
    "container_name = config['azure.settings']['storage_container_name']\n",
    "\n",
    "container_client = None\n",
    "for container in blob_service_client.list_containers():\n",
    "    if container.name == container_name:\n",
    "        container_client = blob_service_client.get_container_client(container)\n",
    "\n",
    "csv_file = open(csv_file_name, 'rb')\n",
    "container_client.upload_blob(name='regression.csv', data=csv_file)\n",
    "print('Blob upload complete.')"
   ]
  },
  {
   "source": [
    "## Get the CSV and Create DataFrame Using Only Data\n",
    "There's no need to save a .csv file - the stream of data (which can be bytes or a String) is sufficient. No duplicate CSV files!"
   ],
   "cell_type": "markdown",
   "metadata": {}
  },
  {
   "cell_type": "code",
   "execution_count": null,
   "metadata": {},
   "outputs": [],
   "source": [
    "import pandas as pd \n",
    "from azure.storage.blob import BlobProperties\n",
    "from io import StringIO\n",
    "\n",
    "download_stream = container_client.download_blob(blob=BlobProperties(name='regression.csv'))\n",
    "download_str = download_stream.content_as_text()\n",
    "df = pd.read_csv(StringIO(download_str))"
   ]
  },
  {
   "source": [
    "## Look at the Downloaded CSV\n",
    "\n",
    "Make sure it's OK and the same as the original."
   ],
   "cell_type": "markdown",
   "metadata": {}
  },
  {
   "cell_type": "code",
   "execution_count": null,
   "metadata": {},
   "outputs": [],
   "source": [
    "print(df)"
   ]
  },
  {
   "source": [
    "# References:\n",
    "* https://franklyai.medium.com/fix-modulenotfounderror-no-module-named-ruamel-when-importing-azureml-core-7264d1860612\n",
    "* https://docs.microsoft.com/en-us/azure/machine-learning/how-to-access-data\n",
    "* https://docs.microsoft.com/en-us/python/api/overview/azure/ml/install?view=azure-ml-py\n",
    "* https://code.visualstudio.com/docs/python/environments\n",
    "* https://docs.microsoft.com/en-us/python/api/azureml-core/azureml.core.workspace.workspace?view=azure-ml-py\n",
    "* https://docs.microsoft.com/en-us/azure/storage/blobs/storage-quickstart-blobs-python"
   ],
   "cell_type": "markdown",
   "metadata": {}
  }
 ]
}