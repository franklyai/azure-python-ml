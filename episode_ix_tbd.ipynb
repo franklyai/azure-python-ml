{
 "metadata": {
  "language_info": {
   "codemirror_mode": {
    "name": "ipython",
    "version": 3
   },
   "file_extension": ".py",
   "mimetype": "text/x-python",
   "name": "python",
   "nbconvert_exporter": "python",
   "pygments_lexer": "ipython3",
   "version": "3.7.9-final"
  },
  "orig_nbformat": 2,
  "kernelspec": {
   "name": "python3",
   "display_name": "Python 3.7.9 64-bit ('.venv')",
   "metadata": {
    "interpreter": {
     "hash": "1ac518374a36ca8f3b1942c7f6a6ae377dd3fd52453f0570ab25e9eeb4415221"
    }
   }
  }
 },
 "nbformat": 4,
 "nbformat_minor": 2,
 "cells": [
  {
   "cell_type": "code",
   "execution_count": 14,
   "metadata": {},
   "outputs": [
    {
     "output_type": "stream",
     "name": "stdout",
     "text": [
      "Azure ML SDK Version:  1.21.0\n"
     ]
    }
   ],
   "source": [
    "%matplotlib inline\n",
    "from azureml.core import Workspace\n",
    "import numpy as np\n",
    "import matplotlib.pyplot as plt\n",
    "import azureml.core\n",
    "import configparser\n",
    "\n",
    "# check core SDK version number\n",
    "print(\"Azure ML SDK Version: \", azureml.core.VERSION)"
   ]
  },
  {
   "cell_type": "code",
   "execution_count": 15,
   "metadata": {},
   "outputs": [
    {
     "output_type": "stream",
     "name": "stdout",
     "text": [
      "Workspace loaded.\n"
     ]
    }
   ],
   "source": [
    "config = configparser.ConfigParser()\n",
    "config.read('episode_vii.ini')\n",
    "ws = Workspace.get(name=config['azure.settings']['workspace_name'], \n",
    "                   subscription_id=config['azure.settings']['subscription_id'], \n",
    "                   resource_group=config['azure.settings']['resource_group'])\n",
    "print('Workspace loaded.')"
   ]
  },
  {
   "cell_type": "code",
   "execution_count": 7,
   "metadata": {},
   "outputs": [],
   "source": [
    "from azureml.core import Experiment\n",
    "experiment_name = 'Simple-Regression-Experiment'\n",
    "exp = Experiment(workspace=ws, name=experiment_name)"
   ]
  },
  {
   "cell_type": "code",
   "execution_count": 12,
   "metadata": {},
   "outputs": [
    {
     "output_type": "stream",
     "name": "stdout",
     "text": [
      "<class 'azureml.core.compute.computeinstance.ComputeInstance'>\nConnected to compute franklai-basic-compute.\n"
     ]
    }
   ],
   "source": [
    "from azureml.core.compute import AmlCompute\n",
    "from azureml.core.compute import ComputeTarget\n",
    "\n",
    "compute_name = 'franklai-basic-compute'\n",
    "compute_target = ws.compute_targets[compute_name]\n",
    "print(type(compute_target))\n",
    "print('Connected to compute ' + compute_name + '.')"
   ]
  },
  {
   "cell_type": "code",
   "execution_count": 17,
   "metadata": {},
   "outputs": [
    {
     "output_type": "stream",
     "name": "stdout",
     "text": [
      "Blob service client created.\n"
     ]
    }
   ],
   "source": [
    "from azure.storage.blob import BlobServiceClient, BlobClient, ContainerClient\n",
    "import uuid\n",
    "\n",
    "storage_connection_string = config['azure.settings']['storage_connection_string']\n",
    "blob_service_client = BlobServiceClient.from_connection_string(storage_connection_string)\n",
    "print('Blob service client created.')\n",
    "\n",
    "container_client = None\n",
    "for container in blob_service_client.list_containers():\n",
    "    if container.name == config['azure.settings']['blob_container_name']:\n",
    "        container_client = blob_service_client.get_container_client(container)\n",
    "        print('Got the container client.')\n",
    "\n",
    "if container_client == None:\n",
    "    print('No container client, creating one with a UUID as the name.')\n",
    "    # Create a unique name for the container\n",
    "    container_name = str(uuid.uuid4())\n",
    "\n",
    "    # Create the container\n",
    "    container_client = blob_service_client.create_container(container_name)\n",
    "    print('Container created:', container_name)"
   ]
  },
  {
   "cell_type": "code",
   "execution_count": null,
   "metadata": {},
   "outputs": [],
   "source": [
    "csv_file_name = '/data/regression.csv'\n",
    "\n",
    "csv_file = open(csv_file_name, 'rb')\n",
    "container_client.upload_blob(name='regression.csv', data=csv_file)\n",
    "print('Blob upload complete.')"
   ]
  },
  {
   "cell_type": "code",
   "execution_count": 20,
   "metadata": {},
   "outputs": [
    {
     "output_type": "stream",
     "name": "stdout",
     "text": [
      "Blob download complete.\n"
     ]
    }
   ],
   "source": [
    "from azure.storage.blob import BlobProperties\n",
    "\n",
    "download_file = './data/regression_download.csv'\n",
    "with open(download_file, \"wb\") as my_blob:\n",
    "    download_stream = container_client.download_blob(blob=BlobProperties(name='regression.csv'))\n",
    "    my_blob.write(download_stream.readall())\n",
    "    print('Blob download complete.')"
   ]
  },
  {
   "source": [
    "# References\n",
    "\n",
    "* https://docs.microsoft.com/en-us/azure/machine-learning/tutorial-train-models-with-aml"
   ],
   "cell_type": "markdown",
   "metadata": {}
  },
  {
   "cell_type": "code",
   "execution_count": null,
   "metadata": {},
   "outputs": [],
   "source": []
  }
 ]
}