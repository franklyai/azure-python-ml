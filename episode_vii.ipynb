{
 "metadata": {
  "language_info": {
   "codemirror_mode": {
    "name": "ipython",
    "version": 3
   },
   "file_extension": ".py",
   "mimetype": "text/x-python",
   "name": "python",
   "nbconvert_exporter": "python",
   "pygments_lexer": "ipython3",
   "version": "3.7.9-final"
  },
  "orig_nbformat": 2,
  "kernelspec": {
   "name": "python3",
   "display_name": "Python 3.7.9 64-bit ('.venv')",
   "metadata": {
    "interpreter": {
     "hash": "1ac518374a36ca8f3b1942c7f6a6ae377dd3fd52453f0570ab25e9eeb4415221"
    }
   }
  }
 },
 "nbformat": 4,
 "nbformat_minor": 2,
 "cells": [
  {
   "source": [
    "# Episode VII Notebook\n",
    "\n",
    "The primary purpose of this episode is to connect to Microsoft Azure Storage to show how to upload and download a CSV file.\n",
    "\n",
    "First, import the packages required to connect to Azure ML."
   ],
   "cell_type": "markdown",
   "metadata": {}
  },
  {
   "cell_type": "code",
   "execution_count": 21,
   "metadata": {},
   "outputs": [],
   "source": [
    "from azureml.core import Workspace\n",
    "import configparser\n",
    "import azureml.core\n",
    "\n",
    "config = configparser.ConfigParser()"
   ]
  },
  {
   "source": [
    "## Connect to the Workspace"
   ],
   "cell_type": "markdown",
   "metadata": {}
  },
  {
   "cell_type": "code",
   "execution_count": 22,
   "metadata": {},
   "outputs": [
    {
     "output_type": "stream",
     "name": "stdout",
     "text": [
      "Workspace loaded.\n"
     ]
    }
   ],
   "source": [
    "config.read('episode_vii.ini')\n",
    "ws = Workspace.get(name=config['azure.settings']['workspace_name'], \n",
    "                   subscription_id=config['azure.settings']['subscription_id'], \n",
    "                   resource_group=config['azure.settings']['resource_group'])\n",
    "print('Workspace loaded.')"
   ]
  },
  {
   "source": [
    "## Have a Look at the CSV Data\n",
    "\n",
    "The data is nothing special, by design so as to not dilute the Azure Storage topic."
   ],
   "cell_type": "markdown",
   "metadata": {}
  },
  {
   "cell_type": "code",
   "execution_count": 4,
   "metadata": {},
   "outputs": [
    {
     "output_type": "execute_result",
     "data": {
      "text/plain": [
       "             x0         x1        x2         x3         x4         x5  y\n",
       "0    -17.933519   6.559220  2.422468 -27.737392 -12.080601  -3.892934  1\n",
       "1    -37.214754  10.774930  5.404072  21.354738   0.612690  -3.093533  0\n",
       "2      0.330441 -19.609972 -1.331804 -15.153892  19.710240  19.077300  0\n",
       "3    -13.709765  -8.011390 -1.536483  23.129497  27.880879  20.573991  0\n",
       "4     -4.202598   7.076210  8.881550  23.600777  26.232164 -14.462320  1\n",
       "...         ...        ...       ...        ...        ...        ... ..\n",
       "4995 -16.890267 -16.018121  3.125934  11.209671  21.754189 -14.794522  1\n",
       "4996   3.071703 -16.908284 -0.782860 -17.203593  21.367046   0.616527  0\n",
       "4997  -6.771443   9.255075 -4.606123 -24.855697 -53.425928  -2.635130  0\n",
       "4998  -4.455558 -21.087259 -0.817243 -11.115997 -13.093764  -6.064185  0\n",
       "4999 -10.751591  -6.059221 -0.173580 -16.036675 -19.536580   3.649812  0\n",
       "\n",
       "[5000 rows x 7 columns]"
      ],
      "text/html": "<div>\n<style scoped>\n    .dataframe tbody tr th:only-of-type {\n        vertical-align: middle;\n    }\n\n    .dataframe tbody tr th {\n        vertical-align: top;\n    }\n\n    .dataframe thead th {\n        text-align: right;\n    }\n</style>\n<table border=\"1\" class=\"dataframe\">\n  <thead>\n    <tr style=\"text-align: right;\">\n      <th></th>\n      <th>x0</th>\n      <th>x1</th>\n      <th>x2</th>\n      <th>x3</th>\n      <th>x4</th>\n      <th>x5</th>\n      <th>y</th>\n    </tr>\n  </thead>\n  <tbody>\n    <tr>\n      <th>0</th>\n      <td>-17.933519</td>\n      <td>6.559220</td>\n      <td>2.422468</td>\n      <td>-27.737392</td>\n      <td>-12.080601</td>\n      <td>-3.892934</td>\n      <td>1</td>\n    </tr>\n    <tr>\n      <th>1</th>\n      <td>-37.214754</td>\n      <td>10.774930</td>\n      <td>5.404072</td>\n      <td>21.354738</td>\n      <td>0.612690</td>\n      <td>-3.093533</td>\n      <td>0</td>\n    </tr>\n    <tr>\n      <th>2</th>\n      <td>0.330441</td>\n      <td>-19.609972</td>\n      <td>-1.331804</td>\n      <td>-15.153892</td>\n      <td>19.710240</td>\n      <td>19.077300</td>\n      <td>0</td>\n    </tr>\n    <tr>\n      <th>3</th>\n      <td>-13.709765</td>\n      <td>-8.011390</td>\n      <td>-1.536483</td>\n      <td>23.129497</td>\n      <td>27.880879</td>\n      <td>20.573991</td>\n      <td>0</td>\n    </tr>\n    <tr>\n      <th>4</th>\n      <td>-4.202598</td>\n      <td>7.076210</td>\n      <td>8.881550</td>\n      <td>23.600777</td>\n      <td>26.232164</td>\n      <td>-14.462320</td>\n      <td>1</td>\n    </tr>\n    <tr>\n      <th>...</th>\n      <td>...</td>\n      <td>...</td>\n      <td>...</td>\n      <td>...</td>\n      <td>...</td>\n      <td>...</td>\n      <td>...</td>\n    </tr>\n    <tr>\n      <th>4995</th>\n      <td>-16.890267</td>\n      <td>-16.018121</td>\n      <td>3.125934</td>\n      <td>11.209671</td>\n      <td>21.754189</td>\n      <td>-14.794522</td>\n      <td>1</td>\n    </tr>\n    <tr>\n      <th>4996</th>\n      <td>3.071703</td>\n      <td>-16.908284</td>\n      <td>-0.782860</td>\n      <td>-17.203593</td>\n      <td>21.367046</td>\n      <td>0.616527</td>\n      <td>0</td>\n    </tr>\n    <tr>\n      <th>4997</th>\n      <td>-6.771443</td>\n      <td>9.255075</td>\n      <td>-4.606123</td>\n      <td>-24.855697</td>\n      <td>-53.425928</td>\n      <td>-2.635130</td>\n      <td>0</td>\n    </tr>\n    <tr>\n      <th>4998</th>\n      <td>-4.455558</td>\n      <td>-21.087259</td>\n      <td>-0.817243</td>\n      <td>-11.115997</td>\n      <td>-13.093764</td>\n      <td>-6.064185</td>\n      <td>0</td>\n    </tr>\n    <tr>\n      <th>4999</th>\n      <td>-10.751591</td>\n      <td>-6.059221</td>\n      <td>-0.173580</td>\n      <td>-16.036675</td>\n      <td>-19.536580</td>\n      <td>3.649812</td>\n      <td>0</td>\n    </tr>\n  </tbody>\n</table>\n<p>5000 rows × 7 columns</p>\n</div>"
     },
     "metadata": {},
     "execution_count": 4
    }
   ],
   "source": [
    "import pandas as pd \n",
    "pd.read_csv('./data/regression.csv')"
   ]
  },
  {
   "source": [
    "## Create Container\n",
    "This only need to be run once. "
   ],
   "cell_type": "markdown",
   "metadata": {}
  },
  {
   "cell_type": "code",
   "execution_count": null,
   "metadata": {},
   "outputs": [],
   "source": [
    "import uuid\n",
    "\n",
    "# Run the following the first time, to create the container.\n",
    "# Create a unique name for the container\n",
    "container_name = str(uuid.uuid4())\n",
    "\n",
    "# Create the container\n",
    "container_client = blob_service_client.create_container(container_name)\n",
    "print('Container created:', container_name)"
   ]
  },
  {
   "source": [
    "## Connect to the Storage Account and get a Blob Service Client Object\n",
    "\n",
    "I want to save this CSV to Azure Storage so my fictional FranklyAI team can all see the raw data."
   ],
   "cell_type": "markdown",
   "metadata": {}
  },
  {
   "cell_type": "code",
   "execution_count": 23,
   "metadata": {},
   "outputs": [
    {
     "output_type": "stream",
     "name": "stdout",
     "text": [
      "Got the Blob Service Client object.\n"
     ]
    }
   ],
   "source": [
    "from azure.storage.blob import BlobServiceClient, BlobClient, ContainerClient\n",
    "\n",
    "storage_connection_string = config['azure.settings']['storage_connection_string']\n",
    "\n",
    "blob_service_client = None\n",
    "# Create the BlobServiceClient object which will be used to create a container client\n",
    "blob_service_client = BlobServiceClient.from_connection_string(storage_connection_string)\n",
    "print('Got the Blob Service Client object.')"
   ]
  },
  {
   "source": [
    "## Get a Container Client from the Blob Service Client and Upload the File"
   ],
   "cell_type": "markdown",
   "metadata": {}
  },
  {
   "cell_type": "code",
   "execution_count": 24,
   "metadata": {},
   "outputs": [
    {
     "output_type": "stream",
     "name": "stdout",
     "text": [
      "Blob upload complete.\n"
     ]
    }
   ],
   "source": [
    "csv_file_name = './data/regression.csv'\n",
    "container_name = config['azure.settings']['storage_container_name']\n",
    "\n",
    "container_client = None\n",
    "for container in blob_service_client.list_containers():\n",
    "    if container.name == container_name:\n",
    "        container_client = blob_service_client.get_container_client(container)\n",
    "\n",
    "csv_file = open(csv_file_name, 'rb')\n",
    "container_client.upload_blob(name='regression.csv', data=csv_file)\n",
    "print('Blob upload complete.')"
   ]
  },
  {
   "cell_type": "code",
   "execution_count": 27,
   "metadata": {},
   "outputs": [
    {
     "output_type": "stream",
     "name": "stdout",
     "text": [
      "Blob download complete.\n"
     ]
    }
   ],
   "source": [
    "from azure.storage.blob import BlobProperties\n",
    "\n",
    "download_file = './data/regression_download.csv'\n",
    "with open(download_file, \"wb\") as my_blob:\n",
    "    download_stream = container_client.download_blob(blob=BlobProperties(name='regression.csv'))\n",
    "    my_blob.write(download_stream.readall())\n",
    "    print('Blob download complete.')"
   ]
  },
  {
   "source": [
    "## Look at the Downloaded CSV\n",
    "\n",
    "Make sure it's OK and the same as the original."
   ],
   "cell_type": "markdown",
   "metadata": {}
  },
  {
   "cell_type": "code",
   "execution_count": 29,
   "metadata": {},
   "outputs": [
    {
     "output_type": "execute_result",
     "data": {
      "text/plain": [
       "             x0         x1        x2         x3         x4         x5  y\n",
       "0    -17.933519   6.559220  2.422468 -27.737392 -12.080601  -3.892934  1\n",
       "1    -37.214754  10.774930  5.404072  21.354738   0.612690  -3.093533  0\n",
       "2      0.330441 -19.609972 -1.331804 -15.153892  19.710240  19.077300  0\n",
       "3    -13.709765  -8.011390 -1.536483  23.129497  27.880879  20.573991  0\n",
       "4     -4.202598   7.076210  8.881550  23.600777  26.232164 -14.462320  1\n",
       "...         ...        ...       ...        ...        ...        ... ..\n",
       "4995 -16.890267 -16.018121  3.125934  11.209671  21.754189 -14.794522  1\n",
       "4996   3.071703 -16.908284 -0.782860 -17.203593  21.367046   0.616527  0\n",
       "4997  -6.771443   9.255075 -4.606123 -24.855697 -53.425928  -2.635130  0\n",
       "4998  -4.455558 -21.087259 -0.817243 -11.115997 -13.093764  -6.064185  0\n",
       "4999 -10.751591  -6.059221 -0.173580 -16.036675 -19.536580   3.649812  0\n",
       "\n",
       "[5000 rows x 7 columns]"
      ],
      "text/html": "<div>\n<style scoped>\n    .dataframe tbody tr th:only-of-type {\n        vertical-align: middle;\n    }\n\n    .dataframe tbody tr th {\n        vertical-align: top;\n    }\n\n    .dataframe thead th {\n        text-align: right;\n    }\n</style>\n<table border=\"1\" class=\"dataframe\">\n  <thead>\n    <tr style=\"text-align: right;\">\n      <th></th>\n      <th>x0</th>\n      <th>x1</th>\n      <th>x2</th>\n      <th>x3</th>\n      <th>x4</th>\n      <th>x5</th>\n      <th>y</th>\n    </tr>\n  </thead>\n  <tbody>\n    <tr>\n      <th>0</th>\n      <td>-17.933519</td>\n      <td>6.559220</td>\n      <td>2.422468</td>\n      <td>-27.737392</td>\n      <td>-12.080601</td>\n      <td>-3.892934</td>\n      <td>1</td>\n    </tr>\n    <tr>\n      <th>1</th>\n      <td>-37.214754</td>\n      <td>10.774930</td>\n      <td>5.404072</td>\n      <td>21.354738</td>\n      <td>0.612690</td>\n      <td>-3.093533</td>\n      <td>0</td>\n    </tr>\n    <tr>\n      <th>2</th>\n      <td>0.330441</td>\n      <td>-19.609972</td>\n      <td>-1.331804</td>\n      <td>-15.153892</td>\n      <td>19.710240</td>\n      <td>19.077300</td>\n      <td>0</td>\n    </tr>\n    <tr>\n      <th>3</th>\n      <td>-13.709765</td>\n      <td>-8.011390</td>\n      <td>-1.536483</td>\n      <td>23.129497</td>\n      <td>27.880879</td>\n      <td>20.573991</td>\n      <td>0</td>\n    </tr>\n    <tr>\n      <th>4</th>\n      <td>-4.202598</td>\n      <td>7.076210</td>\n      <td>8.881550</td>\n      <td>23.600777</td>\n      <td>26.232164</td>\n      <td>-14.462320</td>\n      <td>1</td>\n    </tr>\n    <tr>\n      <th>...</th>\n      <td>...</td>\n      <td>...</td>\n      <td>...</td>\n      <td>...</td>\n      <td>...</td>\n      <td>...</td>\n      <td>...</td>\n    </tr>\n    <tr>\n      <th>4995</th>\n      <td>-16.890267</td>\n      <td>-16.018121</td>\n      <td>3.125934</td>\n      <td>11.209671</td>\n      <td>21.754189</td>\n      <td>-14.794522</td>\n      <td>1</td>\n    </tr>\n    <tr>\n      <th>4996</th>\n      <td>3.071703</td>\n      <td>-16.908284</td>\n      <td>-0.782860</td>\n      <td>-17.203593</td>\n      <td>21.367046</td>\n      <td>0.616527</td>\n      <td>0</td>\n    </tr>\n    <tr>\n      <th>4997</th>\n      <td>-6.771443</td>\n      <td>9.255075</td>\n      <td>-4.606123</td>\n      <td>-24.855697</td>\n      <td>-53.425928</td>\n      <td>-2.635130</td>\n      <td>0</td>\n    </tr>\n    <tr>\n      <th>4998</th>\n      <td>-4.455558</td>\n      <td>-21.087259</td>\n      <td>-0.817243</td>\n      <td>-11.115997</td>\n      <td>-13.093764</td>\n      <td>-6.064185</td>\n      <td>0</td>\n    </tr>\n    <tr>\n      <th>4999</th>\n      <td>-10.751591</td>\n      <td>-6.059221</td>\n      <td>-0.173580</td>\n      <td>-16.036675</td>\n      <td>-19.536580</td>\n      <td>3.649812</td>\n      <td>0</td>\n    </tr>\n  </tbody>\n</table>\n<p>5000 rows × 7 columns</p>\n</div>"
     },
     "metadata": {},
     "execution_count": 29
    }
   ],
   "source": [
    "import pandas as pd \n",
    "pd.read_csv(download_file)"
   ]
  },
  {
   "source": [
    "# References:\n",
    "* https://franklyai.medium.com/fix-modulenotfounderror-no-module-named-ruamel-when-importing-azureml-core-7264d1860612\n",
    "* https://docs.microsoft.com/en-us/azure/machine-learning/how-to-access-data\n",
    "* https://docs.microsoft.com/en-us/python/api/overview/azure/ml/install?view=azure-ml-py\n",
    "* https://code.visualstudio.com/docs/python/environments\n",
    "* https://docs.microsoft.com/en-us/python/api/azureml-core/azureml.core.workspace.workspace?view=azure-ml-py\n",
    "* https://docs.microsoft.com/en-us/azure/storage/blobs/storage-quickstart-blobs-python"
   ],
   "cell_type": "markdown",
   "metadata": {}
  }
 ]
}